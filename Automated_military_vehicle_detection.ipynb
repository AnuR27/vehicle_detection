{
  "nbformat": 4,
  "nbformat_minor": 0,
  "metadata": {
    "colab": {
      "name": "Automated_military_vehicle_detection.ipynb",
      "provenance": [],
      "collapsed_sections": []
    },
    "kernelspec": {
      "name": "python3",
      "display_name": "Python 3"
    },
    "language_info": {
      "name": "python"
    }
  },
  "cells": [
    {
      "cell_type": "code",
      "source": [
        "from google.colab import drive\n",
        "drive.mount('/content/drive')"
      ],
      "metadata": {
        "id": "bRES5CgG6UcC"
      },
      "execution_count": null,
      "outputs": []
    },
    {
      "cell_type": "code",
      "execution_count": null,
      "metadata": {
        "id": "Whd3uc2Y6GTt"
      },
      "outputs": [],
      "source": [
        "!ls\n",
        "!rm -fr darknet\n",
        "!git clone https://github.com/AlexeyAB/darknet/"
      ]
    },
    {
      "cell_type": "code",
      "source": [
        "cp drive/'My Drive'/data_for_colab.zip /content/darknet"
      ],
      "metadata": {
        "id": "1uELYON76Mf-"
      },
      "execution_count": null,
      "outputs": []
    },
    {
      "cell_type": "code",
      "source": [
        "cd darknet"
      ],
      "metadata": {
        "id": "lLelULGn6NY-"
      },
      "execution_count": null,
      "outputs": []
    },
    {
      "cell_type": "code",
      "source": [
        "!unzip data_for_colab"
      ],
      "metadata": {
        "id": "iOmAcOTm6Nov"
      },
      "execution_count": null,
      "outputs": []
    },
    {
      "cell_type": "code",
      "source": [
        "from google.colab import files\n",
        "uploaded = files.upload() \n",
        "for name, data in uploaded.items():\n",
        " with open(name, 'wb') as f:\n",
        " f.write(data)\n",
        " print ('saved file', name)"
      ],
      "metadata": {
        "id": "id6ytBrI6N2t"
      },
      "execution_count": null,
      "outputs": []
    },
    {
      "cell_type": "code",
      "source": [
        "!apt-get update\n",
        "!apt-get upgrade\n",
        "!apt-get install build-essential\n",
        "!apt-get install cmake git libgtk2.0-dev pkg-config libavcodec-dev \n",
        "libavformat-dev libswscale-dev\n",
        "!apt-get install libavcodec-dev libavformat-dev libswscale-d\n",
        "!apt-get -y install cmake\n",
        "!which cmake"
      ],
      "metadata": {
        "id": "vo_jKhEN6OFE"
      },
      "execution_count": null,
      "outputs": []
    },
    {
      "cell_type": "code",
      "source": [
        "!cmake --version\n",
        "!apt-get install libopencv-dev\n",
        "!apt-get install vim\n",
        "!ls\n",
        "!sed -i 's/OPENCV=0/OPENCV=1/g' Makefile\n",
        "!sed -i 's/GPU=0/GPU=1/g' Makefile\n",
        "!ls\n",
        "%cd ../"
      ],
      "metadata": {
        "id": "mzh_pB--6OTP"
      },
      "execution_count": null,
      "outputs": []
    },
    {
      "cell_type": "code",
      "source": [
        "!ls\n",
        "!apt install g++-5\n",
        "!apt install gcc-5"
      ],
      "metadata": {
        "id": "QHmFIDqP6OwB"
      },
      "execution_count": null,
      "outputs": []
    },
    {
      "cell_type": "code",
      "source": [
        "!update-alternatives --install /usr/bin/gcc gcc /usr/bin/gcc-5 10\n",
        "!update-alternatives --install /usr/bin/gcc gcc /usr/bin/gcc-5 20\n",
        "!update-alternatives --install /usr/bin/g++ g++ /usr/bin/g++-5 10\n",
        "!update-alternatives --install /usr/bin/g++ g++ /usr/bin/g++-5 20\n",
        "!update-alternatives --install /usr/bin/cc cc /usr/bin/gcc 30\n",
        "!update-alternatives --set cc /usr/bin/gcc\n",
        "!update-alternatives --install /usr/bin/c++ c++ /usr/bin/g++ 30\n",
        "!update-alternatives --set c++ /usr/bin/g++"
      ],
      "metadata": {
        "id": "wiJeVY8f6PHG"
      },
      "execution_count": null,
      "outputs": []
    },
    {
      "cell_type": "code",
      "source": [
        "!apt update -qq;\n",
        "!wget \n",
        "https://developer.nvidia.com/compute/cuda/8.0/Prod2/local_installers/cuda\u0002repo-ubuntu1604-8-0-local-ga2_8.0.61-1_amd64-deb\n",
        "!dpkg -i cuda-repo-ubuntu1604-8-0-local-ga2_8.0.61-1_amd64-deb\n",
        "!apt-get update -qq"
      ],
      "metadata": {
        "id": "_xa6XTYr6pW-"
      },
      "execution_count": null,
      "outputs": []
    },
    {
      "cell_type": "code",
      "source": [
        "!apt update -qq;\n",
        "!wget \n",
        "https://developer.nvidia.com/compute/cuda/8.0/Prod2/local_installers/cuda\u0002repo-ubuntu1604-8-0-local-ga2_8.0.61-1_amd64-deb\n",
        "!dpkg -i cuda-repo-ubuntu1604-8-0-local-ga2_8.0.61-1_amd64-deb\n",
        "!apt-get update -qq"
      ],
      "metadata": {
        "id": "x0NiL0Q26pmg"
      },
      "execution_count": null,
      "outputs": []
    },
    {
      "cell_type": "code",
      "source": [
        "import tensorflow as tf\n",
        "device_name = tf.test.gpu_device_name()\n",
        "print(device_name)"
      ],
      "metadata": {
        "id": "v-YJrvSN6pxA"
      },
      "execution_count": null,
      "outputs": []
    },
    {
      "cell_type": "code",
      "source": [
        "!/usr/local/cuda/bin/nvcc --version"
      ],
      "metadata": {
        "id": "DgrOA7uC6p5V"
      },
      "execution_count": null,
      "outputs": []
    },
    {
      "cell_type": "code",
      "source": [
        "%cd darknet\n",
        "!make"
      ],
      "metadata": {
        "id": "EhgXcJOk6PVt"
      },
      "execution_count": null,
      "outputs": []
    },
    {
      "cell_type": "code",
      "source": [
        "def imShow(path):\n",
        " import cv2\n",
        " import matplotlib.pyplot as plt\n",
        " %matplotlib inline\n",
        " image = cv2.imread(path)\n",
        " height, width = image.shape[:2]\n",
        " resized_image = cv2.resize(image,(3*width, 3*height), interpolation = \n",
        "cv2.INTER_CUBIC)\n",
        " fig = plt.gcf()\n",
        " fig.set_size_inches(18, 10)\n",
        " plt.axis(\"off\")\n",
        " #plt.rcParams['figure.figsize'] = [10, 5]\n",
        " plt.imshow(cv2.cvtColor(resized_image, cv2.COLOR_BGR2RGB))\n",
        " plt.show()"
      ],
      "metadata": {
        "id": "rdI5l-gt62do"
      },
      "execution_count": null,
      "outputs": []
    },
    {
      "cell_type": "code",
      "source": [
        "def upload():\n",
        " from google.colab import files\n",
        " uploaded = files.upload() \n",
        " for name, data in uploaded.items():\n",
        " with open(name, 'wb') as f:\n",
        " f.write(data)\n",
        " print ('saved file', name)\n",
        "def download(path):\n",
        " from google.colab import files\n",
        " files.download(path)"
      ],
      "metadata": {
        "id": "r3W08Sc762mC"
      },
      "execution_count": null,
      "outputs": []
    },
    {
      "cell_type": "code",
      "source": [
        "# for copying files from drive to colab\n",
        "!pip install -U -q PyDrive\n",
        "import os\n",
        "from pydrive.auth import GoogleAuth\n",
        "from pydrive.drive import GoogleDrive\n",
        "from google.colab import auth\n",
        "from oauth2client.client import GoogleCredentials"
      ],
      "metadata": {
        "id": "r_4OtbTr62ua"
      },
      "execution_count": null,
      "outputs": []
    },
    {
      "cell_type": "code",
      "source": [
        "# 1. Authenticate and create the PyDrive client.\n",
        "auth.authenticate_user()\n",
        "gauth = GoogleAuth()\n",
        "gauth.credentials = GoogleCredentials.get_application_default()\n",
        "drive = GoogleDrive(gauth)"
      ],
      "metadata": {
        "id": "vfI1fK0q621p"
      },
      "execution_count": null,
      "outputs": []
    },
    {
      "cell_type": "code",
      "source": [
        "# choose a local (colab) directory to store the data.\n",
        "local_download_path = \n",
        "os.path.expanduser('/content/darknet/data_for_colab')\n",
        "try:\n",
        " os.makedirs(local_download_path)\n",
        "except: pass\n",
        "# 2. Auto-iterate using the query syntax\n",
        "# https://developers.google.com/drive/v2/web/search-parameters\n",
        "file_list = drive.ListFile(\n",
        " {'q': \"'121ocqr7VwjQVv9RaCUkGuBpr8qFJEGf5' in parents\"}).GetList()\n",
        "for f in file_list:\n",
        " # 3. Create & download by id.\n",
        " print('title: %s, id: %s' % (f['title'], f['id']))\n",
        " fname = os.path.join(local_download_path, f['title'])\n",
        " print('downloading to {}'.format(fname))\n",
        " f_ = drive.CreateFile({'id': f['id']})\n",
        " f_.GetContentFile(fname)\n",
        "with open(fname, 'r') as f:\n",
        " contents = f.read()\n",
        " print(contents)"
      ],
      "metadata": {
        "id": "lHWQUdg76Pkl"
      },
      "execution_count": null,
      "outputs": []
    },
    {
      "cell_type": "code",
      "source": [
        "!./darknet detector train data_for_colab/obj.data data_for_colab/yolov3-\n",
        "tiny-obj.cfg backup/yolov3-tiny-obj_1000.weights -dont_show -map 0.02"
      ],
      "metadata": {
        "id": "3FCYjfpd7KN2"
      },
      "execution_count": null,
      "outputs": []
    },
    {
      "cell_type": "code",
      "source": [
        "!./darknet detector map data_for_colab/obj.data data_for_colab/yolov3-\n",
        "tiny-obj.cfg backup/yolov3-tiny-obj_1000.weights"
      ],
      "metadata": {
        "id": "8JjmfASC7KWk"
      },
      "execution_count": null,
      "outputs": []
    },
    {
      "cell_type": "code",
      "source": [
        "# copying the worked folders to drive \n",
        "!cp \"/content/darknet/backup/yolov3-tiny-obj_1000.weights\" -r \n",
        "\"/content/drive/My Drive/weights\""
      ],
      "metadata": {
        "id": "XnCQpkXb7Kei"
      },
      "execution_count": null,
      "outputs": []
    },
    {
      "cell_type": "code",
      "source": [
        "from google.colab import files\n",
        "uploaded = files.upload() \n",
        "for name, data in uploaded.items():\n",
        " with open(name, 'wb') as f:\n",
        " f.write(data)\n",
        " print ('saved file', name)"
      ],
      "metadata": {
        "id": "dPiSXZGy7cjY"
      },
      "execution_count": null,
      "outputs": []
    },
    {
      "cell_type": "code",
      "source": [
        "!./darknet detector test data_for_colab/obj.data data_for_colab/yolov3-\n",
        "tiny-obj.cfg backup/yolov3-tiny-obj_1000.weights both.jpg -i 0 -thresh 0.5"
      ],
      "metadata": {
        "id": "0uZm_Ipa7crN"
      },
      "execution_count": null,
      "outputs": []
    },
    {
      "cell_type": "code",
      "source": [
        "imShow('predictions.jpg')"
      ],
      "metadata": {
        "id": "3pESkr1K7czy"
      },
      "execution_count": null,
      "outputs": []
    }
  ]
}